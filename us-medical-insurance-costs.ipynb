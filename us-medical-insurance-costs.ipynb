{
 "cells": [
  {
   "cell_type": "markdown",
   "metadata": {},
   "source": [
    "# U.S. Medical Insurance Costs\n",
    "In this project, python fundamentals will be used to analyze medical insurance cost data from a CSV file. The goal of the project is to gain practice using basic python functions to analize realworld data. "
   ]
  },
  {
   "cell_type": "code",
   "execution_count": 31,
   "metadata": {},
   "outputs": [],
   "source": [
    "#import csv library\n",
    "import csv"
   ]
  },
  {
   "cell_type": "code",
   "execution_count": 32,
   "metadata": {},
   "outputs": [],
   "source": [
    "#list variables to hold csv file data for further manipulation\n",
    "age = []\n",
    "sex = []\n",
    "bmi = []\n",
    "children = []\n",
    "smoker = []\n",
    "region = []\n",
    "charges = []"
   ]
  },
  {
   "cell_type": "code",
   "execution_count": 33,
   "metadata": {},
   "outputs": [],
   "source": [
    "#define class for patient info taking the list variables populated with data from the insurance.csv file\n",
    "class Patient_Info:\n",
    "    \n",
    "    #method to change a list of strings into a list of integers\n",
    "    def make_integer (self, lst):\n",
    "        for x in range(len(lst)):\n",
    "            lst[x] = int(lst[x])\n",
    "        return lst\n",
    "    \n",
    "    #method to change a list of strings into a list of floating point values\n",
    "    def make_float (self, lst):\n",
    "        for x in range(len(lst)):\n",
    "            lst[x] = float(lst[x])\n",
    "        return lst\n",
    "    \n",
    "    def __init__ (self, age, sex, bmi, children, smoker, region, charges):\n",
    "        self.age = self.make_integer(age)\n",
    "        self.sex = sex\n",
    "        self.bmi = self.make_float(bmi)\n",
    "        self.children = self.make_integer(children)\n",
    "        self.smoker = smoker\n",
    "        self.region = region\n",
    "        self.charges = self.make_float(charges)\n",
    "        \n",
    "    #method to find the average of a list\n",
    "    def find_average (self, lst):\n",
    "        sum = 0\n",
    "        for x in lst:\n",
    "            sum += x\n",
    "        average = sum/len(lst)\n",
    "        return average\n",
    "    \n",
    "    #method to update the dictionary of age groups used in the analyze by age method\n",
    "    def update_age_dict(self,age_dict, age_group, x):\n",
    "        age_dict[age_group]['Total'] +=1\n",
    "        age_dict[age_group]['Avg BMI'] += self.bmi[x]\n",
    "        age_dict[age_group]['Avg Children'] += self.children[x]\n",
    "        age_dict[age_group]['Avg charges'] += self.charges[x]\n",
    "        if self.sex[x] == 'male':\n",
    "            age_dict[age_group]['Total male'] +=1\n",
    "        else:\n",
    "            age_dict[age_group]['Total female'] +=1\n",
    "        if self.smoker[x] == 'yes':\n",
    "            age_dict[age_group]['Pct Smoker'] += 1\n",
    "        return age_dict\n",
    "    \n",
    "    #method to analyze insurance costs by age\n",
    "    def analyze_age (self):\n",
    "        average_age = self.find_average(self.age)\n",
    "        \n",
    "        #a dictionary of the patients grouped into common age groups\n",
    "        patients_by_age = {\n",
    "            \"Under 18\": {'Total':0, 'Avg BMI':0, 'Total male':0, 'Total female':0, 'Pct Smoker':0, 'Avg Children':0, 'Avg charges':0},\n",
    "            \"18 to 24\": {'Total':0, 'Avg BMI':0, 'Total male':0, 'Total female':0, 'Pct Smoker':0, 'Avg Children':0, 'Avg charges':0},\n",
    "            \"25 to 34\": {'Total':0, 'Avg BMI':0, 'Total male':0, 'Total female':0, 'Pct Smoker':0, 'Avg Children':0, 'Avg charges':0},\n",
    "            \"35 to 44\": {'Total':0, 'Avg BMI':0, 'Total male':0, 'Total female':0, 'Pct Smoker':0, 'Avg Children':0, 'Avg charges':0},\n",
    "            \"45 to 54\": {'Total':0, 'Avg BMI':0, 'Total male':0, 'Total female':0, 'Pct Smoker':0, 'Avg Children':0, 'Avg charges':0},\n",
    "            \"55 to 64\": {'Total':0, 'Avg BMI':0, 'Total male':0, 'Total female':0, 'Pct Smoker':0, 'Avg Children':0, 'Avg charges':0},\n",
    "            \"65 to 74\": {'Total':0, 'Avg BMI':0, 'Total male':0, 'Total female':0, 'Pct Smoker':0, 'Avg Children':0, 'Avg charges':0},\n",
    "            \"75 and older\": {'Total':0, 'Avg BMI':0, 'Total male':0, 'Total female':0, 'Pct Smoker':0, 'Avg Children':0, 'Avg charges':0}\n",
    "        }\n",
    "        \n",
    "        #This goes through the complete set of insurance data and divides into the standard age groups and updates\n",
    "        for x in range(len(self.age)):\n",
    "            if self.age[x] < 18:\n",
    "                self.update_age_dict(patients_by_age, \"Under 18\", x)\n",
    "            elif self.age[x] >= 18 and self.age[x] < 25:\n",
    "                self.update_age_dict(patients_by_age, \"18 to 24\", x)\n",
    "            elif self.age[x] >= 25 and self.age[x] < 35:\n",
    "                self.update_age_dict(patients_by_age, \"25 to 34\", x)\n",
    "            elif self.age[x] >= 35 and self.age[x] < 45:\n",
    "                self.update_age_dict(patients_by_age, \"35 to 44\", x)\n",
    "            elif self.age[x] >= 45 and self.age[x] < 55:\n",
    "                self.update_age_dict(patients_by_age, \"45 to 54\", x)\n",
    "            elif self.age[x] >= 55 and self.age[x] < 65:\n",
    "                self.update_age_dict(patients_by_age, \"55 to 64\", x)\n",
    "            elif self.age[x] >= 65 and self.age[x] < 75:\n",
    "                self.update_age_dict(patients_by_age, \"65 to 74\", x)\n",
    "            else:\n",
    "                self.update_age_dict(patients_by_age, \"75 and older\", x)\n",
    "        \n",
    "        #Convert totals in patients_by_age dictionary values to averages and percentages where applicable\n",
    "        for age_group in patients_by_age.values():\n",
    "            try:\n",
    "                age_group['Avg BMI'] = round(age_group['Avg BMI'] / age_group['Total'],1)\n",
    "                age_group['Avg Children'] = round(age_group['Avg Children'] / age_group['Total'],1)\n",
    "                age_group['Avg charges'] = round(age_group['Avg charges'] / age_group['Total'],2)\n",
    "                age_group['Pct Smoker'] = 100 * round(age_group['Pct Smoker'] / age_group['Total'],2)\n",
    "            except ZeroDivisionError:\n",
    "                pass\n",
    "        \n",
    "        return patients_by_age, average_age\n",
    "        \n",
    "    def analyze_sexes (self):\n",
    "        num_male = 0\n",
    "        num_female = 0\n",
    "        for patient in self.sex:\n",
    "            if patient == \"male\":\n",
    "                num_male += 1\n",
    "            else:\n",
    "                num_female += 1\n",
    "        return num_male, num_female\n",
    "    \n",
    "    def analyze_regions (self):\n",
    "        distinct_regions = {}\n",
    "        for region in self.region:\n",
    "            if region not in distinct_regions.keys():\n",
    "                distinct_regions[region] = 1\n",
    "            else:\n",
    "                distinct_regions[region] += 1\n",
    "        return distinct_regions\n",
    "    \n",
    "    def create_patients_dict(self):\n",
    "        patient_profile = []\n",
    "        for x in range(len(self.age)):\n",
    "            patient_profile.append({\n",
    "                'age': int(self.age[x]),\n",
    "                'sex': self.sex[x],\n",
    "                'bmi': float(self.bmi[x]),\n",
    "                'children': int(self.children[x]),\n",
    "                'smoker': self.smoker[x],\n",
    "                'region': self.region[x],\n",
    "                'charges': float(self.charges[x])\n",
    "            })\n",
    "        return patient_profile"
   ]
  },
  {
   "cell_type": "code",
   "execution_count": 34,
   "metadata": {},
   "outputs": [],
   "source": [
    "#read insurance csv file and copy data into predefined list variables\n",
    "with open('insurance.csv', newline='') as insurance_csv:\n",
    "    reader = csv.DictReader(insurance_csv)\n",
    "    for row in reader:\n",
    "        age.append(row['age'])\n",
    "        sex.append(row['sex'])\n",
    "        bmi.append(row['bmi'])\n",
    "        children.append(row['children'])\n",
    "        smoker.append(row['smoker'])\n",
    "        region.append(row['region'])\n",
    "        charges.append(row['charges'])"
   ]
  },
  {
   "cell_type": "markdown",
   "metadata": {},
   "source": [
    "Now that the data has been copied from the csv file, let's look ast some simple analysis of the data."
   ]
  },
  {
   "cell_type": "code",
   "execution_count": 35,
   "metadata": {},
   "outputs": [],
   "source": [
    "#Instantiates the Patient_Info class\n",
    "patients = Patient_Info(age, sex, bmi, children, smoker, region, charges)"
   ]
  },
  {
   "cell_type": "code",
   "execution_count": 36,
   "metadata": {},
   "outputs": [
    {
     "name": "stdout",
     "output_type": "stream",
     "text": [
      "{'southwest': 325, 'southeast': 364, 'northwest': 325, 'northeast': 324}\n"
     ]
    }
   ],
   "source": [
    "#Prints the results of the analysis by region\n",
    "print(patients.analyze_regions())"
   ]
  },
  {
   "cell_type": "code",
   "execution_count": 37,
   "metadata": {},
   "outputs": [
    {
     "name": "stdout",
     "output_type": "stream",
     "text": [
      "1338\n"
     ]
    }
   ],
   "source": [
    "#Creates the dictionary containing all of the patient information\n",
    "patient_dict = patients.create_patients_dict()\n",
    "print(len(patient_dict))"
   ]
  },
  {
   "cell_type": "code",
   "execution_count": 38,
   "metadata": {},
   "outputs": [
    {
     "name": "stdout",
     "output_type": "stream",
     "text": [
      "Number of males: 676\n",
      "Number of females: 662\n"
     ]
    }
   ],
   "source": [
    "#Prints the results of the analysis by sex\n",
    "sexes = patients.analyze_sexes()\n",
    "print(\"Number of males: {}\\nNumber of females: {}\".format(sexes[0],sexes[1]))"
   ]
  },
  {
   "cell_type": "code",
   "execution_count": 40,
   "metadata": {
    "scrolled": true
   },
   "outputs": [
    {
     "name": "stdout",
     "output_type": "stream",
     "text": [
      "Under 18 years old: {'Total': 0, 'Avg BMI': 0, 'Total male': 0, 'Total female': 0, 'Pct Smoker': 0, 'Avg Children': 0, 'Avg charges': 0}\n",
      "18 to 24 years old: {'Total': 278, 'Avg BMI': 30.0, 'Total male': 144, 'Total female': 134, 'Pct Smoker': 22.0, 'Avg Children': 0.6, 'Avg charges': 9011.34}\n",
      "25 to 34 years old: {'Total': 271, 'Avg BMI': 30.1, 'Total male': 139, 'Total female': 132, 'Pct Smoker': 21.0, 'Avg Children': 1.3, 'Avg charges': 10352.39}\n",
      "35 to 44 years old: {'Total': 260, 'Avg BMI': 30.4, 'Total male': 131, 'Total female': 129, 'Pct Smoker': 23.0, 'Avg Children': 1.5, 'Avg charges': 13134.17}\n",
      "45 to 54 years old: {'Total': 287, 'Avg BMI': 31.1, 'Total male': 143, 'Total female': 144, 'Pct Smoker': 19.0, 'Avg Children': 1.4, 'Avg charges': 15853.93}\n",
      "55 to 64 years old: {'Total': 242, 'Avg BMI': 31.8, 'Total male': 119, 'Total female': 123, 'Pct Smoker': 17.0, 'Avg Children': 0.7, 'Avg charges': 18513.28}\n",
      "65 to 74 years old: {'Total': 0, 'Avg BMI': 0, 'Total male': 0, 'Total female': 0, 'Pct Smoker': 0, 'Avg Children': 0, 'Avg charges': 0}\n",
      "75 and older years old: {'Total': 0, 'Avg BMI': 0, 'Total male': 0, 'Total female': 0, 'Pct Smoker': 0, 'Avg Children': 0, 'Avg charges': 0}\n",
      "\n",
      "Average age of patients = 39\n"
     ]
    }
   ],
   "source": [
    "#Prints the results of the analysis by age group\n",
    "ages = patients.analyze_age()\n",
    "for k,v in ages[0].items():\n",
    "    print('{age} years old: {quantity}'.format(age = k, quantity = v))\n",
    "print('\\nAverage age of patients = {}'.format(round(ages[1])))"
   ]
  },
  {
   "cell_type": "code",
   "execution_count": null,
   "metadata": {},
   "outputs": [],
   "source": []
  }
 ],
 "metadata": {
  "kernelspec": {
   "display_name": "Python 3",
   "language": "python",
   "name": "python3"
  },
  "language_info": {
   "codemirror_mode": {
    "name": "ipython",
    "version": 3
   },
   "file_extension": ".py",
   "mimetype": "text/x-python",
   "name": "python",
   "nbconvert_exporter": "python",
   "pygments_lexer": "ipython3",
   "version": "3.8.3"
  }
 },
 "nbformat": 4,
 "nbformat_minor": 4
}
