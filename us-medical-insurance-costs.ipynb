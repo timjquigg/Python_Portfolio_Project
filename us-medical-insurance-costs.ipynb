{
 "cells": [
  {
   "cell_type": "markdown",
   "metadata": {},
   "source": [
    "# U.S. Medical Insurance Costs\n",
    "In this project, python fundamentals will be used to analyze medical insurance cost data from a CSV file. The goal of the project is to gain practice using basic python functions to analize realworld data. "
   ]
  },
  {
   "cell_type": "code",
   "execution_count": 76,
   "metadata": {},
   "outputs": [],
   "source": [
    "#import csv library\n",
    "import csv"
   ]
  },
  {
   "cell_type": "code",
   "execution_count": 78,
   "metadata": {},
   "outputs": [],
   "source": [
    "#list variables to hold csv file data for further manipulation\n",
    "age = []\n",
    "sex = []\n",
    "bmi = []\n",
    "children = []\n",
    "smoker = []\n",
    "region = []\n",
    "charges = []"
   ]
  },
  {
   "cell_type": "code",
   "execution_count": 106,
   "metadata": {},
   "outputs": [],
   "source": [
    "#define class for patient info taking the list variables populated with data from the insurance.csv file\n",
    "class Patient_Info:\n",
    "    \n",
    "    #method to change a list of strings into a list of integers\n",
    "    def make_integer (self, lst):\n",
    "        for x in range(len(lst)):\n",
    "            lst[x] = int(lst[x])\n",
    "        return lst\n",
    "    \n",
    "    #method to change a list of strings into a list of floating point values\n",
    "    def make_float (self, lst):\n",
    "        for x in range(len(lst)):\n",
    "            lst[x] = float(lst[x])\n",
    "        return lst\n",
    "    \n",
    "    def __init__ (self, age, sex, bmi, children, smoker, region, charges):\n",
    "        self.age = self.make_integer(age)\n",
    "        self.sex = sex\n",
    "        self.bmi = self.make_float(bmi)\n",
    "        self.children = self.make_integer(children)\n",
    "        self.smoker = smoker\n",
    "        self.region = region\n",
    "        self.charges = self.make_float(charges)\n",
    "        \n",
    "    #method to find the average of a list\n",
    "    def find_average (self, lst):\n",
    "        sum = 0\n",
    "        for x in lst:\n",
    "            sum += x\n",
    "        average = sum/len(lst)\n",
    "        return average\n",
    "    \n",
    "    #method to update the dictionary of age groups used in the analyze by age method\n",
    "    def update_age_dict(self,age_dict, age_group, x):\n",
    "        age_dict[age_group]['Total'] +=1\n",
    "        age_dict[age_group]['Avg BMI'] += self.bmi[x]\n",
    "        age_dict[age_group]['Avg Children'] += self.children[x]\n",
    "        age_dict[age_group]['Avg charges'] += self.charges[x]\n",
    "        if self.sex[x] == 'male':\n",
    "            age_dict[age_group]['Total male'] +=1\n",
    "        else:\n",
    "            age_dict[age_group]['Total female'] +=1\n",
    "        if self.smoker[x] == 'yes':\n",
    "            age_dict[age_group]['Pct Smoker'] += 1\n",
    "        return age_dict\n",
    "    \n",
    "    #method to analyze insurance costs by age\n",
    "    def analyze_age (self):\n",
    "        average_age = self.find_average(self.age)\n",
    "        \n",
    "        #a dictionary of the patients grouped into common age groups\n",
    "        patients_by_age = {\n",
    "            \"Under 18\": {'Total':0, 'Avg BMI':0, 'Total male':0, 'Total female':0, 'Pct Smoker':0, 'Avg Children':0, 'Avg charges':0},\n",
    "            \"18 to 24\": {'Total':0, 'Avg BMI':0, 'Total male':0, 'Total female':0, 'Pct Smoker':0, 'Avg Children':0, 'Avg charges':0},\n",
    "            \"25 to 34\": {'Total':0, 'Avg BMI':0, 'Total male':0, 'Total female':0, 'Pct Smoker':0, 'Avg Children':0, 'Avg charges':0},\n",
    "            \"35 to 44\": {'Total':0, 'Avg BMI':0, 'Total male':0, 'Total female':0, 'Pct Smoker':0, 'Avg Children':0, 'Avg charges':0},\n",
    "            \"45 to 54\": {'Total':0, 'Avg BMI':0, 'Total male':0, 'Total female':0, 'Pct Smoker':0, 'Avg Children':0, 'Avg charges':0},\n",
    "            \"55 to 64\": {'Total':0, 'Avg BMI':0, 'Total male':0, 'Total female':0, 'Pct Smoker':0, 'Avg Children':0, 'Avg charges':0},\n",
    "            \"65 to 74\": {'Total':0, 'Avg BMI':0, 'Total male':0, 'Total female':0, 'Pct Smoker':0, 'Avg Children':0, 'Avg charges':0},\n",
    "            \"75 and older\": {'Total':0, 'Avg BMI':0, 'Total male':0, 'Total female':0, 'Pct Smoker':0, 'Avg Children':0, 'Avg charges':0}\n",
    "        }\n",
    "        \n",
    "        #This goes through the complete set of insurance data and divides into the standard age groups and updates\n",
    "        for x in range(len(self.age)):\n",
    "            if self.age[x] < 18:\n",
    "                self.update_age_dict(patients_by_age, \"Under 18\", x)\n",
    "            elif self.age[x] >= 18 and self.age[x] < 25:\n",
    "                self.update_age_dict(patients_by_age, \"18 to 24\", x)\n",
    "            elif self.age[x] >= 25 and self.age[x] < 35:\n",
    "                self.update_age_dict(patients_by_age, \"25 to 34\", x)\n",
    "            elif self.age[x] >= 35 and self.age[x] < 45:\n",
    "                self.update_age_dict(patients_by_age, \"35 to 44\", x)\n",
    "            elif self.age[x] >= 45 and self.age[x] < 55:\n",
    "                self.update_age_dict(patients_by_age, \"45 to 54\", x)\n",
    "            elif self.age[x] >= 55 and self.age[x] < 65:\n",
    "                self.update_age_dict(patients_by_age, \"55 to 64\", x)\n",
    "            elif self.age[x] >= 65 and self.age[x] < 75:\n",
    "                self.update_age_dict(patients_by_age, \"65 to 74\", x)\n",
    "            else:\n",
    "                self.update_age_dict(patients_by_age, \"75 and older\", x)\n",
    "        \n",
    "        #Convert totals in patients_by_age dictionary values to averages and percentages where applicable\n",
    "        for age_group in patients_by_age.values():\n",
    "            try:\n",
    "                age_group['Avg BMI'] = round(age_group['Avg BMI'] / age_group['Total'],1)\n",
    "                age_group['Avg Children'] = round(age_group['Avg Children'] / age_group['Total'],1)\n",
    "                age_group['Avg charges'] = round(age_group['Avg charges'] / age_group['Total'],2)\n",
    "                age_group['Pct Smoker'] = 100 * round(age_group['Pct Smoker'] / age_group['Total'],2)\n",
    "            except ZeroDivisionError:\n",
    "                pass\n",
    "        \n",
    "        return patients_by_age, average_age\n",
    "\n",
    "    #method to update the dictionary of sexes used in the analyze by sex method\n",
    "    def update_sex_dict(self, sex_dict, sex, x):\n",
    "        sex_dict[sex]['Total'] += 1\n",
    "        sex_dict[sex]['Avg Age'] += self.age[x]\n",
    "        sex_dict[sex]['Avg BMI'] += self.bmi[x]\n",
    "        if self.smoker[x] == 'yes':\n",
    "            sex_dict[sex]['Pct Smoker'] +=1\n",
    "        sex_dict[sex]['Avg Children'] += self.children[x]\n",
    "        sex_dict[sex]['Avg charges'] += self.charges[x]\n",
    "        return sex_dict\n",
    "    \n",
    "    #method to analyze insurance cost by sex\n",
    "    def analyze_sexes (self):\n",
    "        \n",
    "        #dictionary to group information by sex\n",
    "        patients_by_sex = {\n",
    "            'Male': {'Total': 0, 'Avg Age': 0, 'Avg BMI': 0, 'Pct Smoker': 0, 'Avg Children': 0, 'Avg charges':0},\n",
    "            'Female': {'Total': 0, 'Avg Age': 0, 'Avg BMI': 0, 'Pct Smoker': 0, 'Avg Children': 0, 'Avg charges':0}\n",
    "        }\n",
    "        \n",
    "        #this goes through the insurance information and populates the sex dictionary by sex\n",
    "        for x in range(len(self.sex)):\n",
    "            if self.sex[x] == 'male':\n",
    "                self.update_sex_dict(patients_by_sex, 'Male', x)\n",
    "            else:\n",
    "                self.update_sex_dict(patients_by_sex, 'Female', x)   \n",
    "        \n",
    "        #converts total amounts in dictionary to average values where applicable\n",
    "        for sex in patients_by_sex.values():\n",
    "            sex['Avg Age'] = round(sex['Avg Age'] / sex['Total'],1)\n",
    "            sex['Avg BMI'] = round(sex['Avg BMI'] / sex['Total'],1)\n",
    "            sex['Pct Smoker']= 100 * round(sex['Pct Smoker'] / sex['Total'],2)\n",
    "            sex['Avg Children'] = round(sex['Avg Children'] / sex['Total'],1)\n",
    "            sex['Avg charges'] = round(sex['Avg charges'] / sex['Total'],2)\n",
    "        \n",
    "        return patients_by_sex\n",
    "    \n",
    "    #method to update the dictionary of regions used in the analyze by region method\n",
    "    def update_reg_dict(self, reg_dict, reg, x):\n",
    "        reg_dict[reg]['Total'] += 1\n",
    "        reg_dict[reg]['Avg age'] += self.age[x]\n",
    "        reg_dict[reg]['Avg BMI'] += self.bmi[x]\n",
    "        if self.smoker[x] == 'yes':\n",
    "            reg_dict[reg]['Pct Smoker'] +=1\n",
    "        reg_dict[reg]['Avg Children'] += self.children[x]\n",
    "        reg_dict[reg]['Avg charges'] += self.charges[x]\n",
    "        if self.sex[x] == 'male':\n",
    "            reg_dict[reg]['Total male'] += 1\n",
    "        else:\n",
    "            reg_dict[reg]['Total female'] += 1\n",
    "        \n",
    "        return reg_dict\n",
    "    \n",
    "    #method to analyze insurance cost by region\n",
    "    def analyze_regions (self):\n",
    "        \n",
    "        #dictionary to group information by region\n",
    "        distinct_regions = {\n",
    "            'Southwest' : {'Total':0, 'Avg age':0, 'Total male':0, 'Total female':0, 'Avg BMI':0, 'Pct Smoker':0, 'Avg Children':0, 'Avg charges':0},\n",
    "            'Southeast' : {'Total':0, 'Avg age':0, 'Total male':0, 'Total female':0, 'Avg BMI':0, 'Pct Smoker':0, 'Avg Children':0, 'Avg charges':0},\n",
    "            'Northwest' : {'Total':0, 'Avg age':0, 'Total male':0, 'Total female':0, 'Avg BMI':0, 'Pct Smoker':0, 'Avg Children':0, 'Avg charges':0},\n",
    "            'Northeast' : {'Total':0, 'Avg age':0, 'Total male':0, 'Total female':0, 'Avg BMI':0, 'Pct Smoker':0, 'Avg Children':0, 'Avg charges':0}\n",
    "        }\n",
    "        \n",
    "        #this goes through the insurance information and groups by region\n",
    "        for x in range(len(self.region)):\n",
    "            if self.region[x] == 'southwest':\n",
    "                self.update_reg_dict(distinct_regions, 'Southwest', x)\n",
    "            elif self.region[x] == 'southeast':\n",
    "                self.update_reg_dict(distinct_regions, 'Southeast', x)\n",
    "            elif self.region[x] == 'northwest':\n",
    "                self.update_reg_dict(distinct_regions, 'Northwest', x)\n",
    "            else:\n",
    "                self.update_reg_dict(distinct_regions, 'Northeast', x)\n",
    "        \n",
    "        #converts total amounts in dictionary to average values where applicable\n",
    "        for region in distinct_regions.values():\n",
    "            try:\n",
    "                region['Avg age'] = round(region['Avg age'] / region['Total'],1)\n",
    "                region['Avg BMI'] = round(region['Avg BMI'] / region['Total'],1)\n",
    "                region['Pct Smoker']= 100 * round(region['Pct Smoker'] / region['Total'],2)\n",
    "                region['Avg Children'] = round(region['Avg Children'] / region['Total'],1)\n",
    "                region['Avg charges'] = round(region['Avg charges'] / region['Total'],2)\n",
    "            except ZeroDivisionError:\n",
    "                pass        \n",
    "        \n",
    "        return distinct_regions\n",
    "    \n",
    "    def create_patients_dict(self):\n",
    "        patient_profile = []\n",
    "        for x in range(len(self.age)):\n",
    "            patient_profile.append({\n",
    "                'age': int(self.age[x]),\n",
    "                'sex': self.sex[x],\n",
    "                'bmi': float(self.bmi[x]),\n",
    "                'children': int(self.children[x]),\n",
    "                'smoker': self.smoker[x],\n",
    "                'region': self.region[x],\n",
    "                'charges': float(self.charges[x])\n",
    "            })\n",
    "        return patient_profile"
   ]
  },
  {
   "cell_type": "code",
   "execution_count": 107,
   "metadata": {},
   "outputs": [],
   "source": [
    "#read insurance csv file and copy data into predefined list variables\n",
    "with open('insurance.csv', newline='') as insurance_csv:\n",
    "    reader = csv.DictReader(insurance_csv)\n",
    "    for row in reader:\n",
    "        age.append(row['age'])\n",
    "        sex.append(row['sex'])\n",
    "        bmi.append(row['bmi'])\n",
    "        children.append(row['children'])\n",
    "        smoker.append(row['smoker'])\n",
    "        region.append(row['region'])\n",
    "        charges.append(row['charges'])"
   ]
  },
  {
   "cell_type": "markdown",
   "metadata": {},
   "source": [
    "Now that the data has been copied from the csv file, let's look ast some simple analysis of the data."
   ]
  },
  {
   "cell_type": "code",
   "execution_count": 108,
   "metadata": {},
   "outputs": [],
   "source": [
    "#Instantiates the Patient_Info class\n",
    "patients = Patient_Info(age, sex, bmi, children, smoker, region, charges)"
   ]
  },
  {
   "cell_type": "code",
   "execution_count": 109,
   "metadata": {},
   "outputs": [
    {
     "name": "stdout",
     "output_type": "stream",
     "text": [
      "Under 18 years old: {'Total': 0, 'Avg BMI': 0, 'Total male': 0, 'Total female': 0, 'Pct Smoker': 0, 'Avg Children': 0, 'Avg charges': 0}\n",
      "18 to 24 years old: {'Total': 1390, 'Avg BMI': 30.0, 'Total male': 720, 'Total female': 670, 'Pct Smoker': 22.0, 'Avg Children': 0.6, 'Avg charges': 9011.34}\n",
      "25 to 34 years old: {'Total': 1355, 'Avg BMI': 30.1, 'Total male': 695, 'Total female': 660, 'Pct Smoker': 21.0, 'Avg Children': 1.3, 'Avg charges': 10352.39}\n",
      "35 to 44 years old: {'Total': 1300, 'Avg BMI': 30.4, 'Total male': 655, 'Total female': 645, 'Pct Smoker': 23.0, 'Avg Children': 1.5, 'Avg charges': 13134.17}\n",
      "45 to 54 years old: {'Total': 1435, 'Avg BMI': 31.1, 'Total male': 715, 'Total female': 720, 'Pct Smoker': 19.0, 'Avg Children': 1.4, 'Avg charges': 15853.93}\n",
      "55 to 64 years old: {'Total': 1210, 'Avg BMI': 31.8, 'Total male': 595, 'Total female': 615, 'Pct Smoker': 17.0, 'Avg Children': 0.7, 'Avg charges': 18513.28}\n",
      "65 to 74 years old: {'Total': 0, 'Avg BMI': 0, 'Total male': 0, 'Total female': 0, 'Pct Smoker': 0, 'Avg Children': 0, 'Avg charges': 0}\n",
      "75 and older years old: {'Total': 0, 'Avg BMI': 0, 'Total male': 0, 'Total female': 0, 'Pct Smoker': 0, 'Avg Children': 0, 'Avg charges': 0}\n",
      "\n",
      "Average age of patients = 39\n"
     ]
    }
   ],
   "source": [
    "#Prints the results of the analysis by age group\n",
    "ages = patients.analyze_age()\n",
    "for k,v in ages[0].items():\n",
    "    print('{age} years old: {quantity}'.format(age = k, quantity = v))\n",
    "print('\\nAverage age of patients = {}'.format(round(ages[1])))"
   ]
  },
  {
   "cell_type": "code",
   "execution_count": 110,
   "metadata": {},
   "outputs": [
    {
     "name": "stdout",
     "output_type": "stream",
     "text": [
      "Male {'Total': 3380, 'Avg Age': 38.9, 'Avg BMI': 30.9, 'Pct Smoker': 24.0, 'Avg Children': 1.1, 'Avg charges': 13956.75} \n",
      "\n",
      "Female {'Total': 3310, 'Avg Age': 39.5, 'Avg BMI': 30.4, 'Pct Smoker': 17.0, 'Avg Children': 1.1, 'Avg charges': 12569.58} \n",
      "\n"
     ]
    }
   ],
   "source": [
    "#Prints the results of the analysis by sex\n",
    "sexes = patients.analyze_sexes()\n",
    "for k, v in sexes.items():\n",
    "    print(k,v,\"\\n\")"
   ]
  },
  {
   "cell_type": "code",
   "execution_count": 111,
   "metadata": {},
   "outputs": [
    {
     "name": "stdout",
     "output_type": "stream",
     "text": [
      "Southwest {'Total': 1625, 'Avg age': 39.5, 'Total male': 815, 'Total female': 810, 'Avg BMI': 30.6, 'Pct Smoker': 18.0, 'Avg Children': 1.1, 'Avg charges': 12346.94} \n",
      "\n",
      "Southeast {'Total': 1820, 'Avg age': 38.9, 'Total male': 945, 'Total female': 875, 'Avg BMI': 33.4, 'Pct Smoker': 25.0, 'Avg Children': 1.0, 'Avg charges': 14735.41} \n",
      "\n",
      "Northwest {'Total': 1625, 'Avg age': 39.2, 'Total male': 805, 'Total female': 820, 'Avg BMI': 29.2, 'Pct Smoker': 18.0, 'Avg Children': 1.1, 'Avg charges': 12417.58} \n",
      "\n",
      "Northeast {'Total': 1620, 'Avg age': 39.3, 'Total male': 815, 'Total female': 805, 'Avg BMI': 29.2, 'Pct Smoker': 21.0, 'Avg Children': 1.0, 'Avg charges': 13406.38} \n",
      "\n"
     ]
    }
   ],
   "source": [
    "#Prints the results of the analysis by region\n",
    "regions = patients.analyze_regions()\n",
    "for k, v in regions.items():\n",
    "    print(k,v,\"\\n\")"
   ]
  },
  {
   "cell_type": "code",
   "execution_count": null,
   "metadata": {},
   "outputs": [],
   "source": [
    "#Prints the results of the anaysis by BMI"
   ]
  },
  {
   "cell_type": "code",
   "execution_count": 112,
   "metadata": {},
   "outputs": [
    {
     "name": "stdout",
     "output_type": "stream",
     "text": [
      "6690\n"
     ]
    }
   ],
   "source": [
    "#Creates the dictionary containing all of the patient information\n",
    "patient_dict = patients.create_patients_dict()"
   ]
  }
 ],
 "metadata": {
  "kernelspec": {
   "display_name": "Python 3",
   "language": "python",
   "name": "python3"
  },
  "language_info": {
   "codemirror_mode": {
    "name": "ipython",
    "version": 3
   },
   "file_extension": ".py",
   "mimetype": "text/x-python",
   "name": "python",
   "nbconvert_exporter": "python",
   "pygments_lexer": "ipython3",
   "version": "3.8.3"
  }
 },
 "nbformat": 4,
 "nbformat_minor": 4
}
