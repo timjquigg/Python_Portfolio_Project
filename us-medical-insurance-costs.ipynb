{
 "cells": [
  {
   "cell_type": "markdown",
   "metadata": {},
   "source": [
    "# U.S. Medical Insurance Costs\n",
    "In this project, python fundamentals will be used to analyze medical insurance cost data from a CSV file. The goal of the project is to gain practice using basic python functions to analize realworld data. "
   ]
  },
  {
   "cell_type": "code",
   "execution_count": 7,
   "metadata": {},
   "outputs": [],
   "source": [
    "#import csv library\n",
    "import csv"
   ]
  },
  {
   "cell_type": "code",
   "execution_count": 8,
   "metadata": {},
   "outputs": [],
   "source": [
    "#list variables to hold csv file data for further manipulation\n",
    "age = []\n",
    "sex = []\n",
    "bmi = []\n",
    "children = []\n",
    "smoker = []\n",
    "region = []\n",
    "charges = []"
   ]
  },
  {
   "cell_type": "code",
   "execution_count": 138,
   "metadata": {},
   "outputs": [],
   "source": [
    "#define class for patient info taking the list variables populated with data from the insurance.csv file\n",
    "class Patient_Info:\n",
    "    \n",
    "    #method to change a list of strings into a list of integers\n",
    "    def make_integer (self, lst):\n",
    "        for x in range(len(lst)):\n",
    "            lst[x] = int(lst[x])\n",
    "        return lst\n",
    "    \n",
    "    #method to change a list of strings into a list of floating point values\n",
    "    def make_float (self, lst):\n",
    "        for x in range(len(lst)):\n",
    "            lst[x] = float(lst[x])\n",
    "        return lst\n",
    "    \n",
    "    def __init__ (self, age, sex, bmi, children, smoker, region, charges):\n",
    "        self.age = self.make_integer(age)\n",
    "        self.sex = sex\n",
    "        self.bmi = self.make_float(bmi)\n",
    "        self.children = self.make_integer(children)\n",
    "        self.smoker = smoker\n",
    "        self.region = region\n",
    "        self.charges = self.make_float(charges)\n",
    "        \n",
    "    #method to find the average of a list\n",
    "    def find_average (self, lst):\n",
    "        sum = 0\n",
    "        for x in lst:\n",
    "            sum += x\n",
    "        average = sum/len(lst)\n",
    "        return average\n",
    "    \n",
    "    def analyze_age (self):\n",
    "        average_age = self.find_average(self.age)\n",
    "        \n",
    "        #a dictionary of the patients grouped into common age groups\n",
    "        patients_by_age = {\n",
    "            \"Under 18\": {'Total':0, 'BMI':0, 'Number of Children':0, 'Average charges':0},\n",
    "            \"18 to 24\": {'Total':0, 'BMI':0, 'Number of Children':0, 'Average charges':0},\n",
    "            \"25 to 34\": {'Total':0, 'BMI':0, 'Number of Children':0, 'Average charges':0},\n",
    "            \"35 to 44\": {'Total':0, 'BMI':0, 'Number of Children':0, 'Average charges':0},\n",
    "            \"45 to 54\": {'Total':0, 'BMI':0, 'Number of Children':0, 'Average charges':0},\n",
    "            \"55 to 64\": {'Total':0, 'BMI':0, 'Number of Children':0, 'Average charges':0},\n",
    "            \"65 to 74\": {'Total':0, 'BMI':0, 'Number of Children':0, 'Average charges':0},\n",
    "            \"75 and older\": {'Total':0, 'BMI':0, 'Number of Children':0, 'Average charges':0}\n",
    "        }\n",
    "        \n",
    "        for x in range(len(self.age)):\n",
    "            if self.age[x] < 18:\n",
    "                patients_by_age[\"Under 18\"]['Total'] += 1\n",
    "                patients_by_age[\"Under 18\"]['BMI'] += self.bmi[x]\n",
    "                patients_by_age[\"Under 18\"]['Number of Children'] += self.children[x]\n",
    "                patients_by_age[\"Under 18\"]['Average charges'] += self.charges[x]\n",
    "            elif self.age[x] >= 18 and self.age[x] < 25:\n",
    "                patients_by_age[\"18 to 24\"]['Total'] += 1\n",
    "                patients_by_age[\"18 to 24\"]['BMI'] += self.bmi[x]\n",
    "                patients_by_age[\"18 to 24\"]['Number of Children'] += self.children[x]\n",
    "                patients_by_age[\"18 to 24\"]['Average charges'] += self.charges[x]\n",
    "            elif self.age[x] >= 25 and self.age[x] < 35:\n",
    "                patients_by_age[\"25 to 34\"]['Total'] += 1\n",
    "                patients_by_age[\"25 to 34\"]['BMI'] += self.bmi[x]\n",
    "                patients_by_age[\"25 to 34\"]['Number of Children'] += self.children[x]\n",
    "                patients_by_age[\"25 to 34\"]['Average charges'] += self.charges[x]\n",
    "            elif self.age[x] >= 35 and self.age[x] < 45:\n",
    "                patients_by_age[\"35 to 44\"]['Total'] += 1\n",
    "                patients_by_age[\"35 to 44\"]['BMI'] += self.bmi[x]\n",
    "                patients_by_age[\"35 to 44\"]['Number of Children'] += self.children[x]\n",
    "                patients_by_age[\"35 to 44\"]['Average charges'] += self.charges[x]\n",
    "            elif self.age[x] >= 45 and self.age[x] < 55:\n",
    "                patients_by_age[\"45 to 54\"]['Total'] += 1\n",
    "                patients_by_age[\"45 to 54\"]['BMI'] += self.bmi[x]\n",
    "                patients_by_age[\"45 to 54\"]['Number of Children'] += self.children[x]\n",
    "                patients_by_age[\"45 to 54\"]['Average charges'] += self.charges[x]\n",
    "            elif self.age[x] >= 55 and self.age[x] < 65:\n",
    "                patients_by_age[\"55 to 64\"]['Total'] += 1\n",
    "                patients_by_age[\"55 to 64\"]['BMI'] += self.bmi[x]\n",
    "                patients_by_age[\"55 to 64\"]['Number of Children'] += self.children[x]\n",
    "                patients_by_age[\"55 to 64\"]['Average charges'] += self.charges[x]\n",
    "            elif self.age[x] >= 65 and self.age[x] < 75:\n",
    "                patients_by_age[\"65 to 74\"]['Total'] += 1\n",
    "                patients_by_age[\"65 to 74\"]['BMI'] += self.bmi[x]\n",
    "                patients_by_age[\"65 to 74\"]['Number of Children'] += self.children[x]\n",
    "                patients_by_age[\"65 to 74\"]['Average charges'] += self.charges[x]\n",
    "            else:\n",
    "                patients_by_age[\"75 and older\"]['Total'] += 1\n",
    "                patients_by_age[\"75 and older\"]['BMI'] += self.bmi[x]\n",
    "                patients_by_age[\"75 and older\"]['Number of Children'] += self.children[x]\n",
    "                patients_by_age[\"75 and older\"]['Average charges'] += self.charges[x]\n",
    "        \n",
    "        for age_group in patients_by_age.values():\n",
    "            try:\n",
    "                age_group['BMI'] = round(age_group['BMI'] / age_group['Total'],1)\n",
    "                age_group['Number of Children'] = round(age_group['Number of Children'] / age_group['Total'],1)\n",
    "                age_group['Average charges'] = round(age_group['Average charges'] / age_group['Total'],2)\n",
    "            except ZeroDivisionError:\n",
    "                pass\n",
    "        \n",
    "        return patients_by_age, average_age\n",
    "        \n",
    "    def analyze_sexes (self):\n",
    "        num_male = 0\n",
    "        num_female = 0\n",
    "        for patient in self.sex:\n",
    "            if patient == \"male\":\n",
    "                num_male += 1\n",
    "            else:\n",
    "                num_female += 1\n",
    "        return num_male, num_female\n",
    "    \n",
    "    def analyze_regions (self):\n",
    "        distinct_regions = {}\n",
    "        for region in self.region:\n",
    "            if region not in distinct_regions.keys():\n",
    "                distinct_regions[region] = 1\n",
    "            else:\n",
    "                distinct_regions[region] += 1\n",
    "        return distinct_regions\n",
    "    \n",
    "    def create_patients_dict(self):\n",
    "        patient_profile = []\n",
    "        for x in range(len(self.age)):\n",
    "            patient_profile.append({\n",
    "                'age': int(self.age[x]),\n",
    "                'sex': self.sex[x],\n",
    "                'bmi': float(self.bmi[x]),\n",
    "                'children': int(self.children[x]),\n",
    "                'smoker': self.smoker[x],\n",
    "                'region': self.region[x],\n",
    "                'charges': float(self.charges[x])\n",
    "            })\n",
    "        return patient_profile"
   ]
  },
  {
   "cell_type": "code",
   "execution_count": 139,
   "metadata": {},
   "outputs": [],
   "source": [
    "#read insurance csv file and copy data into predefined list variables\n",
    "with open('insurance.csv', newline='') as insurance_csv:\n",
    "    reader = csv.DictReader(insurance_csv)\n",
    "    for row in reader:\n",
    "        age.append(row['age'])\n",
    "        sex.append(row['sex'])\n",
    "        bmi.append(row['bmi'])\n",
    "        children.append(row['children'])\n",
    "        smoker.append(row['smoker'])\n",
    "        region.append(row['region'])\n",
    "        charges.append(row['charges'])"
   ]
  },
  {
   "cell_type": "markdown",
   "metadata": {},
   "source": [
    "Now that the data has been copied from the csv file, let's look ast some simple analysis of the data."
   ]
  },
  {
   "cell_type": "code",
   "execution_count": 140,
   "metadata": {},
   "outputs": [],
   "source": [
    "patients = Patient_Info(age, sex, bmi, children, smoker, region, charges)"
   ]
  },
  {
   "cell_type": "code",
   "execution_count": 141,
   "metadata": {},
   "outputs": [
    {
     "name": "stdout",
     "output_type": "stream",
     "text": [
      "{'southwest': 6500, 'southeast': 7280, 'northwest': 6500, 'northeast': 6480}\n"
     ]
    }
   ],
   "source": [
    "print(patients.analyze_regions())"
   ]
  },
  {
   "cell_type": "code",
   "execution_count": 142,
   "metadata": {},
   "outputs": [
    {
     "name": "stdout",
     "output_type": "stream",
     "text": [
      "26760\n"
     ]
    }
   ],
   "source": [
    "patient_dict = patients.create_patients_dict()\n",
    "print(len(patient_dict))"
   ]
  },
  {
   "cell_type": "code",
   "execution_count": 143,
   "metadata": {},
   "outputs": [
    {
     "name": "stdout",
     "output_type": "stream",
     "text": [
      "Number of males: 13520\n",
      "Number of females: 13240\n"
     ]
    }
   ],
   "source": [
    "sexes = patients.analyze_sexes()\n",
    "print(\"Number of males: {}\\nNumber of females: {}\".format(sexes[0],sexes[1]))"
   ]
  },
  {
   "cell_type": "code",
   "execution_count": 144,
   "metadata": {},
   "outputs": [
    {
     "name": "stdout",
     "output_type": "stream",
     "text": [
      "Under 18 years old: {'Total': 0, 'BMI': 0, 'Number of Children': 0, 'Average charges': 0}\n",
      "18 to 24 years old: {'Total': 5560, 'BMI': 30.0, 'Number of Children': 0.6, 'Average charges': 9011.34}\n",
      "25 to 34 years old: {'Total': 5420, 'BMI': 30.1, 'Number of Children': 1.3, 'Average charges': 10352.39}\n",
      "35 to 44 years old: {'Total': 5200, 'BMI': 30.4, 'Number of Children': 1.5, 'Average charges': 13134.17}\n",
      "45 to 54 years old: {'Total': 5740, 'BMI': 31.1, 'Number of Children': 1.4, 'Average charges': 15853.93}\n",
      "55 to 64 years old: {'Total': 4840, 'BMI': 31.8, 'Number of Children': 0.7, 'Average charges': 18513.28}\n",
      "65 to 74 years old: {'Total': 0, 'BMI': 0, 'Number of Children': 0, 'Average charges': 0}\n",
      "75 and older years old: {'Total': 0, 'BMI': 0, 'Number of Children': 0, 'Average charges': 0}\n",
      "Average age of patients = 39\n"
     ]
    }
   ],
   "source": [
    "ages = patients.analyze_age()\n",
    "for k,v in ages[0].items():\n",
    "    print('{age} years old: {quantity}'.format(age = k, quantity = v))\n",
    "print('Average age of patients = {}'.format(round(ages[1])))"
   ]
  },
  {
   "cell_type": "code",
   "execution_count": null,
   "metadata": {},
   "outputs": [],
   "source": []
  }
 ],
 "metadata": {
  "kernelspec": {
   "display_name": "Python 3",
   "language": "python",
   "name": "python3"
  },
  "language_info": {
   "codemirror_mode": {
    "name": "ipython",
    "version": 3
   },
   "file_extension": ".py",
   "mimetype": "text/x-python",
   "name": "python",
   "nbconvert_exporter": "python",
   "pygments_lexer": "ipython3",
   "version": "3.8.3"
  }
 },
 "nbformat": 4,
 "nbformat_minor": 4
}
