{
 "cells": [
  {
   "cell_type": "markdown",
   "metadata": {},
   "source": [
    "# U.S. Medical Insurance Costs\n",
    "In this project, python fundamentals will be used to analyze medical insurance cost data from a CSV file. The goal of the project is to gain practice using basic python functions to analize realworld data. "
   ]
  },
  {
   "cell_type": "code",
   "execution_count": 8,
   "metadata": {},
   "outputs": [],
   "source": [
    "#import csv library\n",
    "import csv"
   ]
  },
  {
   "cell_type": "code",
   "execution_count": 9,
   "metadata": {},
   "outputs": [],
   "source": [
    "#list variables to hold csv file data for further manipulation\n",
    "age = []\n",
    "sex = []\n",
    "bmi = []\n",
    "children = []\n",
    "smoker = []\n",
    "region = []\n",
    "charges = []"
   ]
  },
  {
   "cell_type": "code",
   "execution_count": 61,
   "metadata": {},
   "outputs": [],
   "source": [
    "#define class for patient info taking the list variables populated with data from the insurance.csv file\n",
    "class Patient_Info:\n",
    "    def __init__ (self, age, sex, bmi, children, smoker, region, charges):\n",
    "        self.age = age\n",
    "        self.sex = sex\n",
    "        self.bmi = bmi\n",
    "        self.children = children\n",
    "        self.smoker = smoker\n",
    "        self.region = region\n",
    "        self.charges = charges\n",
    "    \n",
    "    def average_age (self):\n",
    "        sum = 0\n",
    "        for x in self.age:\n",
    "            sum += int(x)\n",
    "        average = round(sum/len(self.age),1)\n",
    "        return average\n",
    "    \n",
    "    def analyze_sexes (self):\n",
    "        num_male = 0\n",
    "        num_female = 0\n",
    "        for patient in self.sex:\n",
    "            if patient == \"male\":\n",
    "                num_male += 1\n",
    "            else:\n",
    "                num_female += 1\n",
    "        return num_male, num_female\n",
    "    \n",
    "    def analyze_regions (self):\n",
    "        distinct_regions = {}\n",
    "        for region in self.region:\n",
    "            if region not in distinct_regions.keys():\n",
    "                distinct_regions[region] = 1\n",
    "            else:\n",
    "                distinct_regions[region] += 1\n",
    "        return distinct_regions\n",
    "    \n",
    "    def create_patients_dict(self):\n",
    "        patient_profile = []\n",
    "        for x in range(len(self.age)):\n",
    "            patient_profile.append({\n",
    "                'age': int(self.age[x]),\n",
    "                'sex': self.sex[x],\n",
    "                'bmi': float(self.bmi[x]),\n",
    "                'children': int(self.children[x]),\n",
    "                'smoker': self.smoker[x],\n",
    "                'region': self.region[x],\n",
    "                'charges': float(self.charges[x])\n",
    "            })\n",
    "        return patient_profile"
   ]
  },
  {
   "cell_type": "code",
   "execution_count": 62,
   "metadata": {},
   "outputs": [],
   "source": [
    "#read insurance csv file and copy data into predefined list variables\n",
    "with open('insurance.csv', newline='') as insurance_csv:\n",
    "    reader = csv.DictReader(insurance_csv)\n",
    "    for row in reader:\n",
    "        age.append(row['age'])\n",
    "        sex.append(row['sex'])\n",
    "        bmi.append(row['bmi'])\n",
    "        children.append(row['children'])\n",
    "        smoker.append(row['smoker'])\n",
    "        region.append(row['region'])\n",
    "        charges.append(row['charges'])"
   ]
  },
  {
   "cell_type": "markdown",
   "metadata": {},
   "source": [
    "Now that the data has been copied from the csv file, let's look ast some simple analysis of the data."
   ]
  },
  {
   "cell_type": "code",
   "execution_count": 63,
   "metadata": {},
   "outputs": [],
   "source": [
    "patients = Patient_Info(age, sex, bmi, children, smoker, region, charges)"
   ]
  },
  {
   "cell_type": "code",
   "execution_count": 64,
   "metadata": {},
   "outputs": [
    {
     "name": "stdout",
     "output_type": "stream",
     "text": [
      "{'southwest': 3575, 'southeast': 4004, 'northwest': 3575, 'northeast': 3564}\n"
     ]
    }
   ],
   "source": [
    "print(patients.analyze_regions())"
   ]
  },
  {
   "cell_type": "code",
   "execution_count": 65,
   "metadata": {},
   "outputs": [
    {
     "name": "stdout",
     "output_type": "stream",
     "text": [
      "14718\n"
     ]
    }
   ],
   "source": [
    "patient_dict = patients.create_patients_dict()\n",
    "print(len(patient_dict))"
   ]
  },
  {
   "cell_type": "code",
   "execution_count": 67,
   "metadata": {},
   "outputs": [
    {
     "name": "stdout",
     "output_type": "stream",
     "text": [
      "Number of males: 7436\n",
      "Number of females: 7282\n"
     ]
    }
   ],
   "source": [
    "sexes = patients.analyze_sexes()\n",
    "print(\"Number of males: {}\\nNumber of females: {}\".format(sexes[0],sexes[1]))"
   ]
  },
  {
   "cell_type": "code",
   "execution_count": null,
   "metadata": {},
   "outputs": [],
   "source": []
  }
 ],
 "metadata": {
  "kernelspec": {
   "display_name": "Python 3",
   "language": "python",
   "name": "python3"
  },
  "language_info": {
   "codemirror_mode": {
    "name": "ipython",
    "version": 3
   },
   "file_extension": ".py",
   "mimetype": "text/x-python",
   "name": "python",
   "nbconvert_exporter": "python",
   "pygments_lexer": "ipython3",
   "version": "3.8.3"
  }
 },
 "nbformat": 4,
 "nbformat_minor": 4
}
